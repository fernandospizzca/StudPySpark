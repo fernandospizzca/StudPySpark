{
 "cells": [
  {
   "cell_type": "code",
   "execution_count": null,
   "id": "8e4e893a",
   "metadata": {},
   "outputs": [],
   "source": [
    "from pyspark.sql import SparkSession\n",
    "import pyspark.sql.functions as F\n",
    "import pyspark.sql.types as T\n",
    "\n",
    "spark = SparkSession.builder \\\n",
    "    .appName(\"AgregateTerste\") \\\n",
    "    .getOrCreate()"
   ]
  },
  {
   "cell_type": "code",
   "execution_count": 16,
   "id": "3a77a173",
   "metadata": {},
   "outputs": [
    {
     "name": "stdout",
     "output_type": "stream",
     "text": [
      "+---+----------+----------+------+------+-------------+--------------+-------------+--------------+\n",
      "|ID |valor1_hml|valor2_hml|valor1|valor2|valor1_hml_OK|valor1_hml_NOK|valor2_hml_OK|valor2_hml_NOK|\n",
      "+---+----------+----------+------+------+-------------+--------------+-------------+--------------+\n",
      "|1  |10        |20        |10    |20    |1            |0             |1            |0             |\n",
      "|2  |15        |25        |15    |25    |1            |0             |1            |0             |\n",
      "|3  |20        |30        |20    |23    |1            |0             |0            |1             |\n",
      "|4  |25        |35        |25    |12    |1            |0             |0            |1             |\n",
      "+---+----------+----------+------+------+-------------+--------------+-------------+--------------+\n",
      "\n"
     ]
    }
   ],
   "source": [
    "data = [\n",
    "    (1, 10, 20, 10, 20),\n",
    "    (2, 15, 25, 15, 25),\n",
    "    (3, 20, 30, 20, 23),\n",
    "    (4, 25, 35, 25, 12)\n",
    "]\n",
    "\n",
    "columns = [\"ID\", \"valor1_hml\", \"valor2_hml\", \"valor1\", \"valor2\"]\n",
    "\n",
    "df = spark.createDataFrame(data, columns)\n",
    "\n",
    "df = df.withColumn('valor1_hml_OK', F.when(df.valor1_hml != df.valor1, 0).otherwise(1))\\\n",
    "       .withColumn('valor1_hml_NOK', F.when(df.valor1_hml != df.valor1, 1).otherwise(0))\\\n",
    "       .withColumn('valor2_hml_OK', F.when(df.valor2_hml != df.valor2, 0).otherwise(1))\\\n",
    "       .withColumn('valor2_hml_NOK', F.when(df.valor2_hml != df.valor2, 1).otherwise(0))\n",
    "\n",
    "df.show(truncate=False)"
   ]
  },
  {
   "cell_type": "code",
   "execution_count": 18,
   "id": "0ea1a757",
   "metadata": {},
   "outputs": [
    {
     "name": "stdout",
     "output_type": "stream",
     "text": [
      "-RECORD 0--------------------\n",
      " valor1_hml_OK_qtd  | 4      \n",
      " valor1_OK_percent  | 100.0% \n",
      " valor1_hml_NOK_qtd | 0      \n",
      " valor1_NOK_percent | 0.0%   \n",
      " valor2_hml_OK_qtd  | 2      \n",
      " valor2_OK_percent  | 50.0%  \n",
      " valor2_hml_NOK_qtd | 2      \n",
      " valor2_NOK_percent | 50.0%  \n",
      "\n"
     ]
    }
   ],
   "source": [
    "# df2 = df.groupBy('ID').agg(F.collect_list(F.struct(F.sum('valor1_OK').alias('valor1_OK_qtd'),\n",
    "#                                                    F.sum('valor1_NOK').alias('valor1_NOK_qtd'),\n",
    "#                                                    F.sum('valor2_OK').alias('valor2_OK_qtd'),\n",
    "#                                                    F.sum('valor2_NOK').alias('valor2_NOK_qtd'))).alias('ListaValor'))\n",
    "\n",
    "qtdReg = df.count()\n",
    "\n",
    "\n",
    "df2 = df.groupBy().agg(\n",
    "    F.sum('valor1_hml_OK').alias('valor1_hml_OK_qtd'),\n",
    "    F.concat(F.round(F.sum('valor1_hml_OK')/qtdReg * 100, 2), F.lit('%')).alias('valor1_OK_percent'),\n",
    "    F.sum('valor1_hml_NOK').alias('valor1_hml_NOK_qtd'),\n",
    "    F.concat(F.round(F.sum('valor1_hml_NOK')/qtdReg * 100, 2), F.lit('%')).alias('valor1_NOK_percent'),\n",
    "    F.sum('valor2_hml_OK').alias('valor2_hml_OK_qtd'),\n",
    "    F.concat(F.round(F.sum('valor2_hml_OK')/qtdReg * 100, 2), F.lit('%')).alias('valor2_OK_percent'),\n",
    "    F.sum('valor2_hml_NOK').alias('valor2_hml_NOK_qtd'),\n",
    "    F.concat(F.round(F.sum('valor2_hml_NOK')/qtdReg * 100, 2), F.lit('%')).alias('valor2_NOK_percent')\n",
    ")\n",
    "\n",
    "\n",
    "# df2.show()\n",
    "df2.show(vertical=True,truncate=False)"
   ]
  },
  {
   "cell_type": "code",
   "execution_count": 19,
   "id": "b19b9617",
   "metadata": {},
   "outputs": [
    {
     "name": "stdout",
     "output_type": "stream",
     "text": [
      "+------+------------------+----------------------+-------------------+-----------------------+\n",
      "|column|valor_check_OK_qtd|valor_check_OK_percent|valor_check_NOK_qtd|valor_check_NOK_percent|\n",
      "+------+------------------+----------------------+-------------------+-----------------------+\n",
      "|valor1|4                 |100.0%                |0                  |0.0%                   |\n",
      "|valor2|2                 |50.0%                 |2                  |50.0%                  |\n",
      "+------+------------------+----------------------+-------------------+-----------------------+\n",
      "\n"
     ]
    }
   ],
   "source": [
    "df = df.withColumn(\n",
    "    \"columns_check\",\n",
    "    F.array(\n",
    "        F.struct(\n",
    "            F.lit(\"valor1\").alias(\"column_name\"),\n",
    "            df[\"valor1\"].alias(\"original_value\"),\n",
    "            df[\"valor1_hml\"].alias(\"compared_value\"),\n",
    "            F.when(df[\"valor1_hml\"] != df[\"valor1\"], 0).otherwise(1).alias(\"valor_check_OK\"),\n",
    "            F.when(df[\"valor1_hml\"] != df[\"valor1\"], 1).otherwise(0).alias(\"valor_check_NOK\"),\n",
    "        ),\n",
    "        F.struct(\n",
    "            F.lit(\"valor2\").alias(\"column_name\"),\n",
    "            df[\"valor2\"].alias(\"original_value\"),\n",
    "            df[\"valor2_hml\"].alias(\"compared_value\"),\n",
    "            F.when(df[\"valor2_hml\"] != df[\"valor2\"], 0).otherwise(1).alias(\"valor_check_OK\"),\n",
    "            F.when(df[\"valor2_hml\"] != df[\"valor2\"], 1).otherwise(0).alias(\"valor_check_NOK\"),\n",
    "        ),\n",
    "    ),\n",
    ")\n",
    "\n",
    "# df4 = df.select(F.explode(\"columns_check\").alias(\"columns_check\"))\n",
    "\n",
    "# df.select(\"columns_check\").show(truncate=False)\n",
    "# df4.printSchema()\n",
    "# df4.show(truncate=False)\n",
    "\n",
    "# df.groupBy(df[\"columns_check\"][\"column_name\"]).count().show(truncate=False)\n",
    "\n",
    "\n",
    "# df.groupBy(df[\"columns_check\"][\"column_name\"]).agg(\n",
    "#     F.sum(df[\"columns_check\"][\"valor_check_OK\"]).alias(\"valor_check_OK_qtd\"),\n",
    "#     F.concat(F.round(F.sum(df[\"columns_check\"][\"valor_check_OK\"])/qtdReg * 100, 2), F.lit('%')).alias(\"valor_check_OK_percent\"),\n",
    "#     F.sum(df[\"columns_check\"][\"valor_check_NOK\"]).alias(\"valor_check_NOK_qtd\"),\n",
    "#     F.concat(F.round(F.sum(df[\"columns_check\"][\"valor_check_NOK\"])/qtdReg * 100, 2), F.lit('%')).alias(\"valor_check_NOK_percent\")\n",
    "# )\n",
    "\n",
    "\n",
    "\n",
    "# Explode o array para transformar cada struct em uma linha\n",
    "df_exploded = df.select(F.explode(\"columns_check\").alias(\"columns_check\"))\n",
    "\n",
    "# Agora você pode agrupar e somar normalmente\n",
    "df_grouped = df_exploded.groupBy(df_exploded[\"columns_check\"][\"column_name\"].alias(\"column\")).agg(\n",
    "    F.sum(df_exploded[\"columns_check\"][\"valor_check_OK\"]).alias(\"valor_check_OK_qtd\"),\n",
    "    F.concat(F.round(F.sum(df_exploded[\"columns_check\"][\"valor_check_OK\"])/qtdReg * 100, 2), F.lit('%')).alias(\"valor_check_OK_percent\"),\n",
    "    F.sum(df_exploded[\"columns_check\"][\"valor_check_NOK\"]).alias(\"valor_check_NOK_qtd\"),\n",
    "    F.concat(F.round(F.sum(df_exploded[\"columns_check\"][\"valor_check_NOK\"])/qtdReg * 100, 2), F.lit('%')).alias(\"valor_check_NOK_percent\"),\n",
    ")\n",
    "\n",
    "df_grouped.show(truncate=False)\n"
   ]
  },
  {
   "cell_type": "code",
   "execution_count": 25,
   "id": "89fbf690",
   "metadata": {},
   "outputs": [
    {
     "name": "stdout",
     "output_type": "stream",
     "text": [
      "+------+--------------+------------------+--------------+---------------+\n",
      "|column|original_value|compared_value_hml|valor_check_OK|valor_check_NOK|\n",
      "+------+--------------+------------------+--------------+---------------+\n",
      "|valor1|            10|                10|             1|              0|\n",
      "|valor2|            20|                20|             1|              0|\n",
      "|valor1|            15|                15|             1|              0|\n",
      "|valor2|            25|                25|             1|              0|\n",
      "|valor1|            20|                20|             1|              0|\n",
      "|valor2|            23|                30|             0|              1|\n",
      "|valor1|            25|                25|             1|              0|\n",
      "|valor2|            12|                35|             0|              1|\n",
      "+------+--------------+------------------+--------------+---------------+\n",
      "\n",
      "+------+------------------+----------------------+-------------------+-----------------------+\n",
      "|column|valor_check_OK_qtd|valor_check_OK_percent|valor_check_NOK_qtd|valor_check_NOK_percent|\n",
      "+------+------------------+----------------------+-------------------+-----------------------+\n",
      "|valor1|4                 |100.0%                |0                  |0.0%                   |\n",
      "|valor2|2                 |50.0%                 |2                  |50.0%                  |\n",
      "+------+------------------+----------------------+-------------------+-----------------------+\n",
      "\n"
     ]
    }
   ],
   "source": [
    "# F.lit(\"valor2\").alias(\"column_name\"),\n",
    "#             df[\"valor2\"].alias(\"original_value\"),\n",
    "#             df[\"valor2_hml\"].alias(\"compared_value\"),\n",
    "#             F.when(df[\"valor2_hml\"] != df[\"valor2\"], 0).otherwise(1).alias(\"valor_check_OK\"),\n",
    "#             F.when(df[\"valor2_hml\"] != df[\"valor2\"], 1).otherwise(0).alias(\"valor_check_NOK\"),\n",
    "\n",
    "valores_base = ['valor1_hml', 'valor2_hml']\n",
    "\n",
    "tam = len(valores_base)\n",
    "\n",
    "structs = []\n",
    "for vb in valores_base:\n",
    "    structs.append(\n",
    "        F.struct(\n",
    "            F.lit(vb.replace('_hml', '')).alias(\"column\"),\n",
    "            F.col(vb.replace('_hml', '')).alias(\"original_value\"),\n",
    "            F.col(vb).alias(\"compared_value_hml\"),\n",
    "            F.when(df[vb] != df[vb.replace('_hml', '')], 0).otherwise(1).alias(\"valor_check_OK\"),\n",
    "            F.when(df[vb] != df[vb.replace('_hml', '')], 1).otherwise(0).alias(\"valor_check_NOK\")\n",
    "        )\n",
    "    )\n",
    "    \n",
    "\n",
    "# structs\n",
    "\n",
    "\n",
    "# Aplicar o transpose\n",
    "df_transposed = df.select(F.explode(F.array(*structs)).alias(\"valores\")).select(\"valores.*\")\n",
    "\n",
    "\n",
    "df_transposed.show()\n",
    "\n",
    "df_transposed.groupBy(df_transposed[\"column\"]).agg(\n",
    "    F.sum(df_transposed[\"valor_check_OK\"]).alias(\"valor_check_OK_qtd\"),\n",
    "    F.concat(F.round(F.sum(df_transposed[\"valor_check_OK\"])/qtdReg * 100, 2), F.lit('%')).alias(\"valor_check_OK_percent\"),\n",
    "    F.sum(df_transposed[\"valor_check_NOK\"]).alias(\"valor_check_NOK_qtd\"),\n",
    "    F.concat(F.round(F.sum(df_transposed[\"valor_check_NOK\"])/qtdReg * 100, 2), F.lit('%')).alias(\"valor_check_NOK_percent\"),\n",
    ").show(truncate=False)"
   ]
  }
 ],
 "metadata": {
  "kernelspec": {
   "display_name": "Python 3",
   "language": "python",
   "name": "python3"
  },
  "language_info": {
   "codemirror_mode": {
    "name": "ipython",
    "version": 3
   },
   "file_extension": ".py",
   "mimetype": "text/x-python",
   "name": "python",
   "nbconvert_exporter": "python",
   "pygments_lexer": "ipython3",
   "version": "3.11.9"
  }
 },
 "nbformat": 4,
 "nbformat_minor": 5
}
